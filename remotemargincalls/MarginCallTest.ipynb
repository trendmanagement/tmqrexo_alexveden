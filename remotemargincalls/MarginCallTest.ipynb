{
 "cells": [
  {
   "cell_type": "code",
   "execution_count": 15,
   "metadata": {
    "collapsed": false
   },
   "outputs": [
    {
     "name": "stdout",
     "output_type": "stream",
     "text": [
      "\"Firm Id\",\"Acct Id\",\"Exchange\",\"Ticker Symbol\",\"Product Name\",\"CC Code\",\"Period Code\",\"Put / Call\",\"Strike\",\"Underlying Period Code\",\"Net Positions\",\"Margin Type\",\"Client ID\",\n\"tml1\",\"acct1\",\"NYMEX\",\"\",\"\",\"CL\",\"201610\",\"\",\"\",\"\",\"5\",\"\",\n\"tml1\",\"acct1\",\"CME\",\"\",\"\",\"ES\",\"201609\",\"\",\"\",\"\",\"1\",\"\",\n\"tml1\",\"acct1\",\"NYMEX\",\"\",\"\",\"LO\",\"201610\",\"PUT\",\"42.5\",\"201610\",\"3\",\"\",\n\n"
     ]
    },
    {
     "name": "stdout",
     "output_type": "stream",
     "text": [
      "ERROR\n0\n0\n"
     ]
    }
   ],
   "source": [
    "from remotemargincalls.margincalls import cmemargincalls\n",
    "from remotemargincalls.margincalls import cmecore_xmlgeneration\n",
    "\n",
    "\n",
    "\n",
    "portfolioLine = cmecore_xmlgeneration.fill_data_line_header_object()\n",
    "\n",
    "\"\"\"\"\n",
    "fill_data_line_object with the following parameters\n",
    "accountId : this should be an identifier of the portfolio you are interested in getting margin values on\n",
    "exchangeSymbol : the symbol of the exchange (NYMEX, CME, etc...)\n",
    "contractType : contract type (FUTURE, CALL, PUT)\n",
    "spanFutureCode : the symbol used by the span and the exchange for the future (CL, ES ...)\n",
    "spanOptionCode : the symbol used by the span and the exchange for the option (LO, ES ...) \n",
    "futureContractYear : the future contract year (2016, 2017 ...)\n",
    "futureContractMonth : the future contract month (1, 2, 3, 4, 5, 6, 7, 8, 9, 10, 11, 12)\n",
    "optionYear : the option contract year (2016, 2017 ...)\n",
    "optionMonth : the option contract month (1, 2, 3, 4, 5, 6, 7, 8, 9, 10, 11, 12)\n",
    "optionStrike : the option strike\n",
    "numberOfLots : the number of lots\n",
    "\"\"\"\n",
    "\n",
    "portfolioLine += cmecore_xmlgeneration.fill_data_line_object('acct1', 'NYMEX', 'FUTURE', 'CL', 'CL', 2016, 10, 2016, 10, 200.0, 5)\n",
    "portfolioLine += cmecore_xmlgeneration.fill_data_line_object('acct1', 'CME', 'FUTURE', 'ES', 'ES', 2016, 9, 2016, 9, 200.0, 1)\n",
    "portfolioLine += cmecore_xmlgeneration.fill_data_line_object('acct1', 'NYMEX', 'PUT', 'CL', 'LO', 2016, 10, 2016, 10, 42.5, 3)\n",
    "\n",
    "\n",
    "print(portfolioLine);\n",
    "\n",
    "xml_file = cmecore_xmlgeneration.create_xml(portfolioLine)\n",
    "\n",
    "margin = cmemargincalls.main_make_margin_call_cme_core(xml_file)\n",
    "\n",
    "print(margin['status'])\n",
    "print(margin['init'])\n",
    "print(margin['maint'])"
   ]
  },
  {
   "cell_type": "code",
   "execution_count": null,
   "metadata": {
    "collapsed": true
   },
   "outputs": [],
   "source": [
    ""
   ]
  },
  {
   "cell_type": "code",
   "execution_count": null,
   "metadata": {
    "collapsed": true
   },
   "outputs": [],
   "source": [
    ""
   ]
  }
 ],
 "metadata": {
  "kernelspec": {
   "display_name": "Python 3",
   "language": "python",
   "name": "python3"
  },
  "language_info": {
   "codemirror_mode": {
    "name": "ipython",
    "version": 3.0
   },
   "file_extension": ".py",
   "mimetype": "text/x-python",
   "name": "python",
   "nbconvert_exporter": "python",
   "pygments_lexer": "ipython3",
   "version": "3.5.2"
  }
 },
 "nbformat": 4,
 "nbformat_minor": 0
}